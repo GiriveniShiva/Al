{
  "nbformat": 4,
  "nbformat_minor": 0,
  "metadata": {
    "colab": {
      "name": "Assignment 1 ai",
      "provenance": [],
      "authorship_tag": "ABX9TyPJZh9VCLrMugCk/dy2WwJK",
      "include_colab_link": true
    },
    "kernelspec": {
      "name": "python3",
      "display_name": "Python 3"
    },
    "language_info": {
      "name": "python"
    }
  },
  "cells": [
    {
      "cell_type": "markdown",
      "metadata": {
        "id": "view-in-github",
        "colab_type": "text"
      },
      "source": [
        "<a href=\"https://colab.research.google.com/github/GiriveniShiva/Al/blob/main/Assignment_1_ai.ipynb\" target=\"_parent\"><img src=\"https://colab.research.google.com/assets/colab-badge.svg\" alt=\"Open In Colab\"/></a>"
      ]
    },
    {
      "cell_type": "code",
      "metadata": {
        "colab": {
          "base_uri": "https://localhost:8080/"
        },
        "id": "SgbC2J8ZPAW7",
        "outputId": "cbbd7650-ae74-4490-fb8a-e5de19010b20"
      },
      "source": [
        " \n",
        "from scipy.optimize import linprog\n",
        "obj=[-50,-120]\n",
        "A_ieq=[[7000,2000],[10,30],[1,1]]\n",
        "b_ieq=[700000,1200,110]\n",
        " \n",
        "boundery=[(0,float('inf')),(0,float('inf'))]\n",
        "opt=linprog(c=obj,A_ub=A_ieq,b_ub=b_ieq,A_eq=None,b_eq=None,bounds=boundery,method=\"Simplex\")\n",
        "opt.x\n",
        "print('Amount of Wheat =',round(opt.x[0]))\n",
        "print('Amount of Barley =',round(opt.x[1]))\n",
        "x,y=opt.x\n",
        "profit=x*50 + y*120\n",
        "print('Total Profit=',profit)"
      ],
      "execution_count": null,
      "outputs": [
        {
          "output_type": "stream",
          "text": [
            "Amount of Wheat = 98\n",
            "Amount of Barley = 7\n",
            "Total Profit= 5778.9473684210525\n"
          ],
          "name": "stdout"
        }
      ]
    }
  ]
}