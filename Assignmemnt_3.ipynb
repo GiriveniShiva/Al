{
  "nbformat": 4,
  "nbformat_minor": 0,
  "metadata": {
    "colab": {
      "name": "Assignmemnt_3.ipynb",
      "provenance": [],
      "authorship_tag": "ABX9TyMq9Otn5F9bBmmNAfyC1oTC",
      "include_colab_link": true
    },
    "kernelspec": {
      "name": "python3",
      "display_name": "Python 3"
    },
    "language_info": {
      "name": "python"
    }
  },
  "cells": [
    {
      "cell_type": "markdown",
      "metadata": {
        "id": "view-in-github",
        "colab_type": "text"
      },
      "source": [
        "<a href=\"https://colab.research.google.com/github/GiriveniShiva/Al/blob/main/Assignmemnt_3.ipynb\" target=\"_parent\"><img src=\"https://colab.research.google.com/assets/colab-badge.svg\" alt=\"Open In Colab\"/></a>"
      ]
    },
    {
      "cell_type": "code",
      "metadata": {
        "colab": {
          "base_uri": "https://localhost:8080/"
        },
        "id": "Plt7SxCTSwBP",
        "outputId": "826d9249-dcdb-4cd1-985a-ec7aa66a807b"
      },
      "source": [
        "import numpy as np \n",
        "from math import exp\n",
        "\n",
        "\n",
        "x = np.random.uniform(-20, 20)\n",
        "y = np.random.uniform(-20, 20)\n",
        "learning_rate = 0.153\n",
        "\n",
        "steps = 0\n",
        "max_steps =  1000\n",
        "pre_step_size_x = 1\n",
        "pre_step_size_y = 1\n",
        "e = 2.178\n",
        "\n",
        "print(f\"Initial values of\\nx = {x}\\ny = {y}\")\n",
        "\n",
        "function = lambda x, y: 3*x**2 + 5*exp(-y) + 10\n",
        "grad_x = lambda x: 6*x\n",
        "grad_y =lambda y: -5*exp(-y)\n",
        "\n",
        "while max(abs(pre_step_size_x),abs(pre_step_size_y))>0.1 and steps<max_steps:\n",
        "  previous_x = x\n",
        "  previous_y = y\n",
        "  x = x - learning_rate * grad_x(previous_x)\n",
        "  y = y - learning_rate * grad_y(previous_y) #gradient of the function\n",
        "  pre_step_size_x = abs(previous_x)\n",
        "  pre_step_size_y = abs(previous_y)\n",
        "  steps += 1\n",
        "\n",
        "print(f\"\\nThe local minimum point/ global minimum occurs at:\\nx = {round(x)}\\ny = {round(y)}\\n\")\n",
        "print(f\"steps taken : {steps}\")\n",
        "print(f\"\\nObjective function value = {round(function(x,y))}\")"
      ],
      "execution_count": 1,
      "outputs": [
        {
          "output_type": "stream",
          "name": "stdout",
          "text": [
            "Initial values of\n",
            "x = 11.845493365775852\n",
            "y = 17.258552483833967\n",
            "\n",
            "The local minimum point/ global minimum occurs at:\n",
            "x = 0\n",
            "y = 17\n",
            "\n",
            "steps taken : 1000\n",
            "\n",
            "Objective function value = 10\n"
          ]
        }
      ]
    },
    {
      "cell_type": "markdown",
      "metadata": {
        "id": "7p6ZV6cRTMuW"
      },
      "source": [
        "![Model Calculations](https://raw.githubusercontent.com/GiriveniShiva/Al/main/ASSIGNMENT-3MODEL_CALCULATIONS.jpg)"
      ]
    },
    {
      "cell_type": "code",
      "metadata": {
        "id": "LKIaIPGGTYJS"
      },
      "source": [
        ""
      ],
      "execution_count": null,
      "outputs": []
    }
  ]
}